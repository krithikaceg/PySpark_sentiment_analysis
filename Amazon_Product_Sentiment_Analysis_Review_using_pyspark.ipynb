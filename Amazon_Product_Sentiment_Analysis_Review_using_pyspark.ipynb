{
 "cells": [
  {
   "cell_type": "markdown",
   "metadata": {
    "colab_type": "text",
    "id": "XbWGYJiHJtN6"
   },
   "source": [
    "# Sentiment Analysis of Healthcare and Personal care products"
   ]
  },
  {
   "cell_type": "markdown",
   "metadata": {
    "colab_type": "text",
    "id": "Bh8_46gY24Gs"
   },
   "source": [
    "## Business Understanding"
   ]
  },
  {
   "cell_type": "markdown",
   "metadata": {
    "colab_type": "text",
    "id": "GhF35Em9eywf"
   },
   "source": [
    "This project is aimed towards understanding the sentiment of customer reviews in different social media platforms.\n",
    "\n",
    "When customer likes and dislikes a product, it is highly likely that they post their review in their Twitter or FaceBook or any ther social platform.\n",
    "\n",
    "Our objective is to build a model that is trained with the known positve and negative customer reviews from Amazon's Healthcare and personla care products.\n",
    "\n",
    "**Dataset Description**\n",
    "1. We want to know what is the postive and negative sentiments are. With Amazon's product review, we associate 4,5 ratings as positive, and 1, 2 ratings ar negative.\n",
    "\n",
    "2. We want to focus only on Healthcare and Personal care products only. \n",
    "\n",
    "\n",
    "**How do we train our model and choose from the models trained?**\n",
    "We experiemnt with different ML algorithms suh as Logistic Regression, SVC, Random Forest to classify our sentiments as positive or negative.\n",
    "\n",
    "Based on the precision score, we choose our model after performing Hyper parameter tuning.\n",
    "\n",
    "**What is the impact of our project?**\n",
    "\n",
    "Not all the customers reach Customer Care when they face a trouble with the product that they recently purchased. Additionally not all customers write reviews. It would be worse for amazon if customers leave negative comments regarding their products on social media and amazon doesn't keep track of it the way it is able to for the reviews left on its website.\n",
    "\n",
    "Using sentiment analysis, we can predict negative sentiments in customer reviews. This negative sentiments could be used to rectify the problem/issue that the customer is facing. We hope to use the same model to eventually run sentiment analysis on references made to amazon products on social media platforms where there is no review or rating readily available.\n",
    "\n",
    "This helps in increasing customer satisfaction while increasing the range of purchase of the existing customers."
   ]
  },
  {
   "cell_type": "markdown",
   "metadata": {
    "colab_type": "text",
    "id": "Ziq5nJXH26_d"
   },
   "source": [
    "## Setup"
   ]
  },
  {
   "cell_type": "markdown",
   "metadata": {
    "colab_type": "text",
    "id": "KiRNBooXJ3-Q"
   },
   "source": [
    "### Importing Python Libraries"
   ]
  },
  {
   "cell_type": "code",
   "execution_count": 1,
   "metadata": {},
   "outputs": [
    {
     "name": "stdout",
     "output_type": "stream",
     "text": [
      "Requirement already satisfied: pyspark in /Library/Frameworks/Python.framework/Versions/3.7/lib/python3.7/site-packages (2.4.3)\n",
      "Requirement already satisfied: py4j==0.10.7 in /Library/Frameworks/Python.framework/Versions/3.7/lib/python3.7/site-packages (from pyspark) (0.10.7)\n",
      "Requirement already satisfied: bs4 in /Library/Frameworks/Python.framework/Versions/3.7/lib/python3.7/site-packages (0.0.1)\n",
      "Requirement already satisfied: beautifulsoup4 in /Library/Frameworks/Python.framework/Versions/3.7/lib/python3.7/site-packages (from bs4) (4.7.1)\n",
      "Requirement already satisfied: soupsieve>=1.2 in /Library/Frameworks/Python.framework/Versions/3.7/lib/python3.7/site-packages (from beautifulsoup4->bs4) (1.9.2)\n"
     ]
    }
   ],
   "source": [
    "!pip install pyspark\n",
    "!pip install bs4"
   ]
  },
  {
   "cell_type": "code",
   "execution_count": 6,
   "metadata": {},
   "outputs": [
    {
     "name": "stdout",
     "output_type": "stream",
     "text": [
      "Requirement already satisfied: beautifulsoup4 in /Library/Frameworks/Python.framework/Versions/3.7/lib/python3.7/site-packages (4.7.1)\n",
      "Requirement already satisfied: soupsieve>=1.2 in /Library/Frameworks/Python.framework/Versions/3.7/lib/python3.7/site-packages (from beautifulsoup4) (1.9.2)\n",
      "Collecting nltk\n",
      "\u001b[?25l  Downloading https://files.pythonhosted.org/packages/8d/5d/825889810b85c303c8559a3fd74d451d80cf3585a851f2103e69576bf583/nltk-3.4.3.zip (1.4MB)\n",
      "\u001b[K     |████████████████████████████████| 1.5MB 4.1MB/s eta 0:00:01\n",
      "\u001b[?25hRequirement already satisfied: six in /Library/Frameworks/Python.framework/Versions/3.7/lib/python3.7/site-packages (from nltk) (1.11.0)\n",
      "Installing collected packages: nltk\n",
      "  Running setup.py install for nltk ... \u001b[?25ldone\n",
      "\u001b[?25hSuccessfully installed nltk-3.4.3\n"
     ]
    }
   ],
   "source": [
    "!pip install beautifulsoup4\n",
    "!pip install nltk"
   ]
  },
  {
   "cell_type": "code",
   "execution_count": 3,
   "metadata": {
    "colab": {
     "base_uri": "https://localhost:8080/",
     "height": 119
    },
    "colab_type": "code",
    "id": "ncWsYkkpB3h2",
    "outputId": "0329f885-5632-47b8-90e8-b5d56ddcdf64"
   },
   "outputs": [],
   "source": [
    "import pandas as pd\n",
    "import re, string, unicodedata\n",
    "import string\n",
    "from bs4 import BeautifulSoup\n",
    "import nltk\n",
    "from nltk import word_tokenize, sent_tokenize\n",
    "from nltk.corpus import stopwords\n",
    "from nltk.stem import LancasterStemmer, WordNetLemmatizer\n",
    "from nltk import pos_tag\n",
    "from nltk.tokenize import WhitespaceTokenizer"
   ]
  },
  {
   "cell_type": "markdown",
   "metadata": {
    "colab_type": "text",
    "id": "mR5DsZymKSj5"
   },
   "source": [
    "## Data Ingestion"
   ]
  },
  {
   "cell_type": "markdown",
   "metadata": {},
   "source": [
    "Downloading data from data source"
   ]
  },
  {
   "cell_type": "code",
   "execution_count": 14,
   "metadata": {},
   "outputs": [
    {
     "name": "stdout",
     "output_type": "stream",
     "text": [
      "Updating Homebrew...\n",
      "\u001b[34m==>\u001b[0m \u001b[1mAuto-updated Homebrew!\u001b[0m\n",
      "Updated 3 taps (homebrew/core, homebrew/services and mongodb/brew).\n",
      "\u001b[34m==>\u001b[0m \u001b[1mNew Formulae\u001b[0m\n",
      "anime-downloader                         k6\n",
      "antibody                                 kim-api\n",
      "cjson                                    mariadb@10.3\n",
      "clojure-lsp                              newman\n",
      "contentful-cli                           openkim-models\n",
      "cxxopts                                  procs\n",
      "devspace                                 scala@2.12\n",
      "docker-machine-driver-vmware             scdoc\n",
      "drone-cli                                swig@3\n",
      "dust                                     termshark\n",
      "helmsman                                 terraformer\n",
      "hey                                      virgil\n",
      "ipopt                                    yapf\n",
      "k3d\n",
      "\u001b[34m==>\u001b[0m \u001b[1mUpdated Formulae\u001b[0m\n",
      "\u001b[1mgettext \u001b[32m✔\u001b[0m\u001b[0m                                libbitcoin-protocol\n",
      "\u001b[1mgit \u001b[32m✔\u001b[0m\u001b[0m                                    libbitcoin-server\n",
      "\u001b[1mopenssl \u001b[32m✔\u001b[0m\u001b[0m                                libchamplain\n",
      "\u001b[1mvim \u001b[32m✔\u001b[0m\u001b[0m                                    libcroco\n",
      "ack                                      libdazzle\n",
      "agda                                     liberasurecode\n",
      "akamai                                   libev\n",
      "aliyun-cli                               libfabric\n",
      "alot                                     libfixbuf\n",
      "ammonite-repl                            libgda\n",
      "amqp-cpp                                 libgdata\n",
      "amtk                                     libgee\n",
      "angle-grinder                            libgit2\n",
      "angular-cli                              libglade\n",
      "anjuta                                   libglademm\n",
      "annie                                    libgnomecanvas\n",
      "ansible                                  libgnomecanvasmm\n",
      "anyenv                                   libgsf\n",
      "apache-arrow-glib                        libgtop\n",
      "app-engine-python                        libgweather\n",
      "apt-dater                                libhttpseverywhere\n",
      "aqbanking                                libical\n",
      "arangodb                                 libidl\n",
      "aravis                                   libidn2\n",
      "armadillo                                libinfinity\n",
      "artifactory                              libiptcdata\n",
      "asciidoctor                              liblqr\n",
      "asciidoctorj                             liblunar\n",
      "ask-cli                                  libmp3splt\n",
      "atk                                      libmpd\n",
      "atkmm                                    libmpdclient\n",
      "atlantis                                 libmypaint\n",
      "atomist-cli                              libnice\n",
      "audacious                                libnids\n",
      "auditbeat                                libnotify\n",
      "autorest                                 libosinfo\n",
      "avro-cpp                                 libpeas\n",
      "awf                                      libphonenumber\n",
      "aws-sdk-cpp                              libpqxx\n",
      "awscli                                   libpst\n",
      "axel                                     libpulsar\n",
      "azure-cli                                libqalculate\n",
      "azure-storage-cpp                        libquicktime\n",
      "babl                                     librdkafka\n",
      "balena-cli                               libre\n",
      "baobab                                   librealsense\n",
      "basex                                    librem\n",
      "bazel                                    librest\n",
      "bettercap                                librsvg\n",
      "bind                                     libsass\n",
      "bit                                      libsecret\n",
      "bitcoin                                  libsigc++\n",
      "bitlbee                                  libsmf\n",
      "bitrise                                  libsoup\n",
      "bitwarden-cli                            libspectre\n",
      "bookloupe                                libspectrum\n",
      "boost                                    libssh2\n",
      "boost-bcp                                libswiften\n",
      "boost-build                              libtorrent-rasterbar\n",
      "boost-mpi                                libvirt\n",
      "boost-python                             libvirt-glib\n",
      "boost-python3                            libxlsxwriter\n",
      "braid                                    libxml++\n",
      "buildifier                               libxml++3\n",
      "bundletool                               lighttpd\n",
      "byobu                                    linkerd\n",
      "cadaver                                  lizard\n",
      "caffe                                    lmod\n",
      "cairo                                    logtalk\n",
      "calcurse                                 loudmouth\n",
      "calicoctl                                luarocks\n",
      "cataclysm                                lwtools\n",
      "catch2                                   lxc\n",
      "cattle                                   macvim\n",
      "center-im                                mafft\n",
      "certbot                                  mailutils\n",
      "cf4ocl                                   mame\n",
      "cfn-lint                                 mariadb\n",
      "cgal                                     mariadb-connector-c\n",
      "cgit                                     mariadb@10.2\n",
      "chafa                                    math-comp\n",
      "chakra                                   maxima\n",
      "checkstyle                               maxwell\n",
      "chicken                                  mcabber\n",
      "chrome-export                            mdbook\n",
      "circleci                                 mdbtools\n",
      "citus                                    mdk\n",
      "clojure                                  mednafen\n",
      "clozure-cl                               megatools\n",
      "clutter                                  mercurial\n",
      "clutter-gst                              mesa\n",
      "clutter-gtk                              meson\n",
      "cmake                                    metaproxy\n",
      "cockroach                                metricbeat\n",
      "cocoapods                                micronaut\n",
      "cogl                                     midgard2\n",
      "cointop                                  midnight-commander\n",
      "commandbox                               mighttpd2\n",
      "composer                                 mikutter\n",
      "conan                                    mill\n",
      "convox                                   minbif\n",
      "coq                                      minio\n",
      "corectl                                  minio-mc\n",
      "cpansearch                               mk-configure\n",
      "cpprestsdk                               mksh\n",
      "cql                                      mkvtoolnix\n",
      "cracklib                                 molecule\n",
      "cromwell                                 monero\n",
      "crosstool-ng                             monetdb\n",
      "cryfs                                    mongoose\n",
      "crystal                                  mono-libgdiplus\n",
      "csvq                                     mosquitto\n",
      "cucumber-cpp                             mp3splt\n",
      "curl                                     mpdscribble\n",
      "curl-openssl                             mpich\n",
      "curlftpfs                                msitools\n",
      "cutter                                   mu\n",
      "cython                                   mutt\n",
      "dartsim                                  mysql@5.7\n",
      "datetime-fortran                         mysqltuner\n",
      "dbus-glib                                nano\n",
      "dc3dd                                    nativefier\n",
      "dehydrated                               nats-streaming-server\n",
      "deno                                     nave\n",
      "dep                                      ncdc\n",
      "dependency-check                         ncmpc\n",
      "desktop-file-utils                       ncmpcpp\n",
      "dfc                                      neomutt\n",
      "dhall                                    neovim\n",
      "dhall-json                               nethack\n",
      "diff-pdf                                 newsboat\n",
      "django-completion                        newt\n",
      "dnscrypt-proxy                           nghttp2\n",
      "dnstwist                                 nginx\n",
      "docfx                                    nim\n",
      "docker-compose                           node\n",
      "docker-compose-completion                node-build\n",
      "doctl                                    node_exporter\n",
      "dopewars                                 nomad\n",
      "dspdfviewer                              nordugrid-arc\n",
      "duc                                      noti\n",
      "duck                                     notmuch\n",
      "duo_unix                                 ntfs-3g\n",
      "dwdiff                                   ocaml-num\n",
      "e2fsprogs                                opa\n",
      "easy-tag                                 openapi-generator\n",
      "efl                                      openconnect\n",
      "eiffelstudio                             openfortivpn\n",
      "elasticsearch                            openh264\n",
      "elixir                                   openimageio\n",
      "emscripten                               openslide\n",
      "encfs                                    orbit\n",
      "enchant                                  oscats\n",
      "enigma                                   osm-gps-map\n",
      "enscript                                 osquery\n",
      "envconsul                                osrm-backend\n",
      "erlang                                   paket\n",
      "erlang@20                                pam-u2f\n",
      "erlang@21                                pandoc\n",
      "eslint                                   pango\n",
      "exiftool                                 pangomm\n",
      "exiv2                                    paps\n",
      "expat                                    parallel\n",
      "exploitdb                                passenger\n",
      "f3                                       payara\n",
      "faas-cli                                 pcb\n",
      "faudio                                   pcb2gcode\n",
      "fceux                                    pdf2htmlex\n",
      "fio                                      pdf2svg\n",
      "firebase-cli                             pdfpc\n",
      "flex                                     pdftoipe\n",
      "flow                                     peg-markdown\n",
      "fluid-synth                              pgbadger\n",
      "fluxctl                                  pgformatter\n",
      "fn                                       pgrouting\n",
      "folly                                    php\n",
      "fontforge                                php-cs-fixer\n",
      "fonttools                                php@7.1\n",
      "fourstore                                php@7.2\n",
      "freeciv                                  phpmyadmin\n",
      "freedink                                 phpunit\n",
      "fs-uae                                   pidgin\n",
      "fselect                                  pinboard-notes-backup\n",
      "fuse-emulator                            pinfo\n",
      "fuseki                                   pioneers\n",
      "futhark                                  plantuml\n",
      "gabedit                                  plplot\n",
      "gammu                                    pms\n",
      "gawk                                     pod2man\n",
      "gbdfed                                   ponyc\n",
      "gcab                                     poppler\n",
      "gcsfuse                                  postgresql@10\n",
      "gdcm                                     postgresql@9.4\n",
      "gdk-pixbuf                               postgresql@9.5\n",
      "gdl                                      postgresql@9.6\n",
      "gdmap                                    postgrest\n",
      "gegl                                     pqiv\n",
      "gengetopt                                pre-commit\n",
      "genometools                              prefixsuffix\n",
      "geoipupdate                              presto\n",
      "gerbv                                    prettier\n",
      "ghex                                     profanity\n",
      "ghostscript                              proteinortho\n",
      "gibo                                     prototool\n",
      "git-cola                                 pstoedit\n",
      "git-flow-avh                             pulumi\n",
      "git-fresh                                pushpin\n",
      "git-recent                               py2cairo\n",
      "git-remote-hg                            pybind11\n",
      "git-secret                               pyenv\n",
      "git-town                                 pygobject3\n",
      "gitg                                     pygtk\n",
      "gitlab-runner                            pygtkglext\n",
      "gitleaks                                 pygtksourceview\n",
      "gjs                                      pypy3\n",
      "gkrellm                                  qalculate-gtk\n",
      "glade                                    qemu\n",
      "glib                                     qmmp\n",
      "glib-networking                          quicktype\n",
      "glibmm                                   r\n",
      "glooctl                                  rbspy\n",
      "glyr                                     rclone\n",
      "gmic                                     rdesktop\n",
      "gmime                                    rdup\n",
      "gnome-autoar                             re2\n",
      "gnome-builder                            reattach-to-user-namespace\n",
      "gnome-latex                              rebar3\n",
      "gnome-recipes                            recode\n",
      "gnome-themes-standard                    redshift\n",
      "gnu-getopt                               riemann\n",
      "gnu-indent                               rke\n",
      "gnu-typist                               rmlint\n",
      "gnu-units                                rocksdb\n",
      "gnumeric                                 roswell\n",
      "gnunet                                   rpm\n",
      "gnupg                                    rrdtool\n",
      "gnuplot                                  rtags\n",
      "gnuradio                                 rtv\n",
      "go                                       ruby-build\n",
      "goaccess                                 sassc\n",
      "gobby                                    saxon\n",
      "gobject-introspection                    sbcl\n",
      "gobuster                                 scala\n",
      "godep                                    scalariform\n",
      "goffice                                  sccache\n",
      "golang-migrate                           sceptre\n",
      "gom                                      schismtracker\n",
      "gomplate                                 scons\n",
      "goocanvas                                scrcpy\n",
      "goofys                                   scrollkeeper\n",
      "goreleaser                               sd\n",
      "gpa                                      sdcv\n",
      "gpgme                                    sec\n",
      "gpredict                                 serverless\n",
      "gpsbabel                                 sfcgal\n",
      "gpsim                                    shadowsocks-libev\n",
      "gqview                                   shared-mime-info\n",
      "gradio                                   ship\n",
      "grafana                                  silk\n",
      "grakn                                    simple-tiles\n",
      "graph-tool                               sipp\n",
      "graphviz                                 siril\n",
      "gromacs                                  sk\n",
      "grpc                                     skaffold\n",
      "grsync                                   skktools\n",
      "gsmartcontrol                            skopeo\n",
      "gspell                                   sleepwatcher\n",
      "gst-editing-services                     sn0int\n",
      "gst-libav                                snownews\n",
      "gst-plugins-bad                          sofia-sip\n",
      "gst-plugins-base                         solr@7.7\n",
      "gst-plugins-good                         sonobuoy\n",
      "gst-plugins-ugly                         sops\n",
      "gst-python                               source-highlight\n",
      "gst-rtsp-server                          sphinx-doc\n",
      "gst-validate                             spirv-cross\n",
      "gstreamer                                sqlcipher\n",
      "gstreamermm                              sqlmap\n",
      "gtk+                                     sshfs\n",
      "gtk+3                                    sslsplit\n",
      "gtk-chtheme                              streamripper\n",
      "gtk-gnutella                             stunnel\n",
      "gtk-mac-integration                      suil\n",
      "gtk-vnc                                  swiftformat\n",
      "gtkdatabox                               swiftlint\n",
      "gtkextra                                 sylpheed\n",
      "gtkglext                                 syncthing\n",
      "gtkmm                                    synfig\n",
      "gtkmm3                                   tbb\n",
      "gtksourceview                            teleconsole\n",
      "gtksourceview3                           telegraf\n",
      "gtksourceview4                           teleport\n",
      "gtksourceviewmm                          template-glib\n",
      "gtksourceviewmm3                         tepl\n",
      "gtkspell3                                terraform\n",
      "gts                                      terragrunt\n",
      "gucharmap                                terrahub\n",
      "gupnp-av                                 tfenv\n",
      "gupnp-tools                              thefuck\n",
      "gwenhywfar                               tiger-vnc\n",
      "gwyddion                                 tile38\n",
      "gxml                                     tmux-xpanes\n",
      "h3                                       tokei\n",
      "hadolint                                 tomcat\n",
      "harfbuzz                                 topgrade\n",
      "haskell-stack                            tox\n",
      "helmfile                                 triton\n",
      "herrie                                   ttyd\n",
      "hfstospell                               typescript\n",
      "hlint                                    u-boot-tools\n",
      "homebank                                 ufraw\n",
      "httping                                  uhd\n",
      "hub                                      unbound\n",
      "hunspell                                 upscaledb\n",
      "hydra                                    util-linux\n",
      "hyperfine                                utimer\n",
      "hyperkit                                 v8\n",
      "i2pd                                     vagrant-completion\n",
      "icecream                                 vala\n",
      "imagemagick                              valabind\n",
      "imagemagick@6                            vamp-plugin-sdk\n",
      "imageoptim-cli                           vault\n",
      "inlets                                   verilator\n",
      "iperf3                                   vfuse\n",
      "irssi                                    vice\n",
      "istioctl                                 viewvc\n",
      "itk                                      vips\n",
      "jdupes                                   vowpal-wabbit\n",
      "jenkins                                  vte\n",
      "jenkins-lts                              vte3\n",
      "jfrog-cli-go                             vulkan-headers\n",
      "jhipster                                 vultr\n",
      "jigdo                                    wdfs\n",
      "jnettop                                  wdiff\n",
      "joplin                                   webdis\n",
      "json-fortran                             webpack\n",
      "json-glib                                webtorrent-cli\n",
      "jsonnet                                  weechat\n",
      "juju                                     wesnoth\n",
      "just                                     whois\n",
      "jvgrep                                   widelands\n",
      "kafka                                    wildfly-as\n",
      "kallisto                                 wimlib\n",
      "kapacitor                                winetricks\n",
      "kibana                                   wireguard-tools\n",
      "klavaro                                  wla-dx\n",
      "knot                                     wmctrl\n",
      "kops                                     wtf\n",
      "kotlin                                   wv\n",
      "kubeprod                                 xboard\n",
      "kubernetes-cli                           xmake\n",
      "kubernetes-helm                          xmrig\n",
      "kubernetes-service-catalog-client        xonsh\n",
      "kustomize                                xsane\n",
      "lablgtk                                  yaf\n",
      "lammps                                   yamllint\n",
      "lasi                                     yarn\n",
      "lasso                                    yash\n",
      "latex2html                               yelp-tools\n",
      "lazygit                                  ykman\n",
      "ldapvi                                   yle-dl\n",
      "ledger                                   you-get\n",
      "lensfun                                  youtube-dl\n",
      "lgogdownloader                           yubico-piv-tool\n",
      "libbitcoin                               z3\n",
      "libbitcoin-blockchain                    zenity\n",
      "libbitcoin-client                        zim\n",
      "libbitcoin-database                      zimg\n",
      "libbitcoin-explorer                      zlog\n",
      "libbitcoin-network                       zola\n",
      "libbitcoin-node                          zsh-autosuggestions\n",
      "\u001b[34m==>\u001b[0m \u001b[1mRenamed Formulae\u001b[0m\n",
      "gnatsd -> nats-server\n",
      "\u001b[34m==>\u001b[0m \u001b[1mDeleted Formulae\u001b[0m\n",
      "dsd             guile@2.0       scala@2.10      swig@3.04       varnish@4\n"
     ]
    },
    {
     "name": "stdout",
     "output_type": "stream",
     "text": [
      "\n",
      "\u001b[32m==>\u001b[0m \u001b[1mInstalling dependencies for wget: \u001b[32mgettext\u001b[39m, \u001b[32mlibunistring\u001b[39m, \u001b[32mlibidn2\u001b[39m and \u001b[32mopenssl\u001b[39m\u001b[0m\n",
      "\u001b[32m==>\u001b[0m \u001b[1mInstalling wget dependency: \u001b[32mgettext\u001b[39m\u001b[0m\n",
      "\u001b[34m==>\u001b[0m \u001b[1mDownloading https://homebrew.bintray.com/bottles/gettext-0.20.1.mojave.bottl\u001b[0m\n",
      "\u001b[34m==>\u001b[0m \u001b[1mDownloading from https://akamai.bintray.com/fa/fa2096f80238b8f4d9f3724d52662\u001b[0m\n",
      "######################################################################## 100.0%\n",
      "\u001b[34m==>\u001b[0m \u001b[1mPouring gettext-0.20.1.mojave.bottle.tar.gz\u001b[0m\n",
      "\u001b[34m==>\u001b[0m \u001b[1mCaveats\u001b[0m\n",
      "gettext is keg-only, which means it was not symlinked into /usr/local,\n",
      "because macOS provides the BSD gettext library & some software gets confused if both are in the library path.\n",
      "\n",
      "If you need to have gettext first in your PATH run:\n",
      "  echo 'export PATH=\"/usr/local/opt/gettext/bin:$PATH\"' >> ~/.bash_profile\n",
      "\n",
      "For compilers to find gettext you may need to set:\n",
      "  export LDFLAGS=\"-L/usr/local/opt/gettext/lib\"\n",
      "  export CPPFLAGS=\"-I/usr/local/opt/gettext/include\"\n",
      "\n",
      "\u001b[34m==>\u001b[0m \u001b[1mSummary\u001b[0m\n",
      "🍺  /usr/local/Cellar/gettext/0.20.1: 1,899 files, 18.5MB\n",
      "\u001b[32m==>\u001b[0m \u001b[1mInstalling wget dependency: \u001b[32mlibunistring\u001b[39m\u001b[0m\n",
      "\u001b[34m==>\u001b[0m \u001b[1mDownloading https://homebrew.bintray.com/bottles/libunistring-0.9.10.mojave.\u001b[0m\n",
      "\u001b[34m==>\u001b[0m \u001b[1mDownloading from https://akamai.bintray.com/1d/1d0c8e266acddcebeef3d9f6162d6\u001b[0m\n",
      "######################################################################## 100.0%\n",
      "\u001b[34m==>\u001b[0m \u001b[1mPouring libunistring-0.9.10.mojave.bottle.tar.gz\u001b[0m\n",
      "🍺  /usr/local/Cellar/libunistring/0.9.10: 54 files, 4.4MB\n",
      "\u001b[32m==>\u001b[0m \u001b[1mInstalling wget dependency: \u001b[32mlibidn2\u001b[39m\u001b[0m\n",
      "\u001b[34m==>\u001b[0m \u001b[1mDownloading https://homebrew.bintray.com/bottles/libidn2-2.2.0_1.mojave.bott\u001b[0m\n",
      "\u001b[34m==>\u001b[0m \u001b[1mDownloading from https://akamai.bintray.com/96/96e9b127a4123a1a4ec67f849467b\u001b[0m\n",
      "######################################################################## 100.0%\n",
      "\u001b[34m==>\u001b[0m \u001b[1mPouring libidn2-2.2.0_1.mojave.bottle.tar.gz\u001b[0m\n",
      "🍺  /usr/local/Cellar/libidn2/2.2.0_1: 70 files, 700.9KB\n",
      "\u001b[32m==>\u001b[0m \u001b[1mInstalling wget dependency: \u001b[32mopenssl\u001b[39m\u001b[0m\n",
      "\u001b[34m==>\u001b[0m \u001b[1mDownloading https://homebrew.bintray.com/bottles/openssl-1.0.2s.mojave.bottl\u001b[0m\n",
      "\u001b[34m==>\u001b[0m \u001b[1mDownloading from https://akamai.bintray.com/c4/c4a762d719c2be74ac686f1aafabb\u001b[0m\n",
      "######################################################################## 100.0%\n",
      "\u001b[34m==>\u001b[0m \u001b[1mPouring openssl-1.0.2s.mojave.bottle.tar.gz\u001b[0m\n",
      "\u001b[34m==>\u001b[0m \u001b[1mCaveats\u001b[0m\n",
      "A CA file has been bootstrapped using certificates from the SystemRoots\n",
      "keychain. To add additional certificates (e.g. the certificates added in\n",
      "the System keychain), place .pem files in\n",
      "  /usr/local/etc/openssl/certs\n",
      "\n",
      "and run\n",
      "  /usr/local/opt/openssl/bin/c_rehash\n",
      "\n",
      "openssl is keg-only, which means it was not symlinked into /usr/local,\n",
      "because Apple has deprecated use of OpenSSL in favor of its own TLS and crypto libraries.\n",
      "\n",
      "If you need to have openssl first in your PATH run:\n",
      "  echo 'export PATH=\"/usr/local/opt/openssl/bin:$PATH\"' >> ~/.bash_profile\n",
      "\n",
      "For compilers to find openssl you may need to set:\n",
      "  export LDFLAGS=\"-L/usr/local/opt/openssl/lib\"\n",
      "  export CPPFLAGS=\"-I/usr/local/opt/openssl/include\"\n",
      "\n",
      "\u001b[34m==>\u001b[0m \u001b[1mSummary\u001b[0m\n",
      "🍺  /usr/local/Cellar/openssl/1.0.2s: 1,795 files, 12.0MB\n",
      "\u001b[32m==>\u001b[0m \u001b[1mInstalling \u001b[32mwget\u001b[39m\u001b[0m\n",
      "\u001b[34m==>\u001b[0m \u001b[1mDownloading https://homebrew.bintray.com/bottles/wget-1.20.3_1.mojave.bottle\u001b[0m\n",
      "\u001b[34m==>\u001b[0m \u001b[1mDownloading from https://akamai.bintray.com/96/96a58c26308afae033e6d6325e7af\u001b[0m\n",
      "######################################################################## 100.0%\n",
      "\u001b[34m==>\u001b[0m \u001b[1mPouring wget-1.20.3_1.mojave.bottle.tar.gz\u001b[0m\n",
      "🍺  /usr/local/Cellar/wget/1.20.3_1: 49 files, 4.0MB\n",
      "\u001b[32m==>\u001b[0m \u001b[1mCaveats\u001b[0m\n",
      "\u001b[34m==>\u001b[0m \u001b[1mgettext\u001b[0m\n",
      "gettext is keg-only, which means it was not symlinked into /usr/local,\n",
      "because macOS provides the BSD gettext library & some software gets confused if both are in the library path.\n",
      "\n",
      "If you need to have gettext first in your PATH run:\n",
      "  echo 'export PATH=\"/usr/local/opt/gettext/bin:$PATH\"' >> ~/.bash_profile\n",
      "\n",
      "For compilers to find gettext you may need to set:\n",
      "  export LDFLAGS=\"-L/usr/local/opt/gettext/lib\"\n",
      "  export CPPFLAGS=\"-I/usr/local/opt/gettext/include\"\n",
      "\n",
      "\u001b[34m==>\u001b[0m \u001b[1mopenssl\u001b[0m\n",
      "A CA file has been bootstrapped using certificates from the SystemRoots\n",
      "keychain. To add additional certificates (e.g. the certificates added in\n",
      "the System keychain), place .pem files in\n",
      "  /usr/local/etc/openssl/certs\n",
      "\n",
      "and run\n",
      "  /usr/local/opt/openssl/bin/c_rehash\n",
      "\n",
      "openssl is keg-only, which means it was not symlinked into /usr/local,\n",
      "because Apple has deprecated use of OpenSSL in favor of its own TLS and crypto libraries.\n",
      "\n",
      "If you need to have openssl first in your PATH run:\n",
      "  echo 'export PATH=\"/usr/local/opt/openssl/bin:$PATH\"' >> ~/.bash_profile\n",
      "\n",
      "For compilers to find openssl you may need to set:\n",
      "  export LDFLAGS=\"-L/usr/local/opt/openssl/lib\"\n",
      "  export CPPFLAGS=\"-I/usr/local/opt/openssl/include\"\n",
      "\n"
     ]
    }
   ],
   "source": [
    "!brew install wget"
   ]
  },
  {
   "cell_type": "code",
   "execution_count": 75,
   "metadata": {
    "colab": {
     "base_uri": "https://localhost:8080/",
     "height": 378
    },
    "colab_type": "code",
    "id": "DisrPGtD_cgZ",
    "outputId": "1581d249-52fe-4fe5-ce48-4533f45e16ee",
    "scrolled": true
   },
   "outputs": [
    {
     "name": "stdout",
     "output_type": "stream",
     "text": [
      "--2019-07-01 19:41:07--  http://snap.stanford.edu/data/amazon/productGraph/categoryFiles/reviews_Health_and_Personal_Care_5.json.gz\n",
      "Resolving snap.stanford.edu (snap.stanford.edu)... 171.64.75.80\n",
      "Connecting to snap.stanford.edu (snap.stanford.edu)|171.64.75.80|:80... connected.\n",
      "HTTP request sent, awaiting response... 200 OK\n",
      "Length: 85180885 (81M) [application/x-gzip]\n",
      "Saving to: ‘reviews_Health_and_Personal_Care_5.json.gz.1’\n",
      "\n",
      "reviews_Health_and_ 100%[===================>]  81.23M  9.90MB/s    in 12s     \n",
      "\n",
      "2019-07-01 19:41:19 (6.57 MB/s) - ‘reviews_Health_and_Personal_Care_5.json.gz.1’ saved [85180885/85180885]\n",
      "\n"
     ]
    }
   ],
   "source": [
    "!wget \"http://snap.stanford.edu/data/amazon/productGraph/categoryFiles/reviews_Health_and_Personal_Care_5.json.gz\""
   ]
  },
  {
   "cell_type": "code",
   "execution_count": 12,
   "metadata": {
    "colab": {
     "base_uri": "https://localhost:8080/",
     "height": 85
    },
    "colab_type": "code",
    "id": "5Li-Ik14Bl9c",
    "outputId": "9aca9923-c2c6-4d54-fe56-864862e7bc9a"
   },
   "outputs": [],
   "source": [
    "!gunzip reviews_Health_and_Personal_Care_5.json.gz"
   ]
  },
  {
   "cell_type": "code",
   "execution_count": 30,
   "metadata": {},
   "outputs": [
    {
     "name": "stdout",
     "output_type": "stream",
     "text": [
      "root\n",
      " |-- asin: string (nullable = true)\n",
      " |-- helpful: array (nullable = true)\n",
      " |    |-- element: long (containsNull = true)\n",
      " |-- overall: float (nullable = true)\n",
      " |-- reviewText: string (nullable = true)\n",
      " |-- reviewTime: string (nullable = true)\n",
      " |-- reviewerID: string (nullable = true)\n",
      " |-- reviewerName: string (nullable = true)\n",
      " |-- summary: string (nullable = true)\n",
      " |-- unixReviewTime: long (nullable = true)\n",
      "\n"
     ]
    }
   ],
   "source": [
    "from pyspark.sql import SparkSession\n",
    "spark = SparkSession.builder.master(\"local\") \\\n",
    "         .appName(\"sentiment_analysis\") \\\n",
    "         .getOrCreate()\n",
    "#input_data = spark.read.csv('product_review_sentiment_analysis.csv')\n",
    "input_data = spark.read.format(\"json\").option(\"header\", \"true\").option(\"mode\", \"DROPMALFORMED\").load(\"reviews_Health_and_Personal_Care_5.json\")\n",
    "\n",
    "from pyspark.sql.types import *\n",
    "input_data = input_data.withColumn(\"overall\", input_data[\"overall\"].cast(FloatType()))\n",
    "input_data.printSchema()"
   ]
  },
  {
   "cell_type": "code",
   "execution_count": 14,
   "metadata": {},
   "outputs": [
    {
     "data": {
      "text/plain": [
       "pyspark.sql.dataframe.DataFrame"
      ]
     },
     "execution_count": 14,
     "metadata": {},
     "output_type": "execute_result"
    }
   ],
   "source": [
    "type(input_data)"
   ]
  },
  {
   "cell_type": "markdown",
   "metadata": {
    "colab_type": "text",
    "id": "MxXIsgdIRoaH"
   },
   "source": [
    "## Data Understanding"
   ]
  },
  {
   "cell_type": "code",
   "execution_count": 9,
   "metadata": {
    "colab": {
     "base_uri": "https://localhost:8080/",
     "height": 459
    },
    "colab_type": "code",
    "id": "9evQr7L-F6WT",
    "outputId": "f823fc01-c965-41c2-90b9-a52da44198f1"
   },
   "outputs": [
    {
     "name": "stdout",
     "output_type": "stream",
     "text": [
      "['asin', 'helpful', 'overall', 'reviewText', 'reviewTime', 'reviewerID', 'reviewerName', 'summary', 'unixReviewTime']\n",
      "root\n",
      " |-- asin: string (nullable = true)\n",
      " |-- helpful: array (nullable = true)\n",
      " |    |-- element: long (containsNull = true)\n",
      " |-- overall: double (nullable = true)\n",
      " |-- reviewText: string (nullable = true)\n",
      " |-- reviewTime: string (nullable = true)\n",
      " |-- reviewerID: string (nullable = true)\n",
      " |-- reviewerName: string (nullable = true)\n",
      " |-- summary: string (nullable = true)\n",
      " |-- unixReviewTime: long (nullable = true)\n",
      "\n"
     ]
    },
    {
     "data": {
      "text/plain": [
       "[('asin', 'string'),\n",
       " ('helpful', 'array<bigint>'),\n",
       " ('overall', 'double'),\n",
       " ('reviewText', 'string'),\n",
       " ('reviewTime', 'string'),\n",
       " ('reviewerID', 'string'),\n",
       " ('reviewerName', 'string'),\n",
       " ('summary', 'string'),\n",
       " ('unixReviewTime', 'bigint')]"
      ]
     },
     "execution_count": 9,
     "metadata": {},
     "output_type": "execute_result"
    }
   ],
   "source": [
    "print(input_data.columns)\n",
    "input_data.printSchema()\n",
    "input_data.dtypes\n",
    "#print(input_data.info())\n",
    "#print(input_data.head())"
   ]
  },
  {
   "cell_type": "code",
   "execution_count": 33,
   "metadata": {
    "colab": {
     "base_uri": "https://localhost:8080/",
     "height": 476
    },
    "colab_type": "code",
    "id": "uFDe43_AdnQp",
    "outputId": "0d695347-c02c-4616-99c3-21b735e52b4e"
   },
   "outputs": [
    {
     "data": {
      "text/plain": [
       "[Row(reviewerID='A35W3JQYP0M655', asin='1933622865', reviewerName='\"John Thomas... \"\"New England...USA\"\"\"', helpful='[68, 87]', reviewText=\"I recently saw this at a local AC Moore store.  They had one open so you could try it out.  I only tried it for less than 10 minutes but that was enough.  Personally I think this is one of the worst ideas I have seen in a long time that is a product of one of those annoying TV commercials.  The idea of it is that it supposed to be easier to hold this thing over your book and hover it there continuously while you read, as opposed to just wearing glasses, ....Or something. (I think a newer model I saw on TV recently has a light, but that doesn't come off as any improvement on it in my opinion).  No question that if you get this thing just right it can magnify the page of your book or whatever it is you are using it for, but the fact that it actually works is where the benefits of this thing ends.  For starters, even if you are not reading one of the books that requires two hands for it closes on you the second you relax your grip on it,(as most of them are), this thing has to be positioned just right all the time in order to magnify the page successfully.  Move it back and forth just a little and your page becomes a blur.  There are no attachments to this thing, your hand is the tool, and in no time you start to have it get tired, go to sleep, etc.  There is not even a handle anywhere on this thing.  You just hold it someplace along the edge where you can sometimes find yourself magnifying nothing but your own finger.  Lastly, this thing is not glare resistant.  Depending on your light source, you will occasionally have to move or adjust it just to see.  Or better yet, forget about it it all together which is what I suggest overall.  There are several of these page magnifiers available here on Amazon.  The cheaper ones are much smaller.  Actually, I think a smaller ones is a wiser investment than this more expensive full page model.  The smaller one can be a handy tool to have around when you are trying to read that horrible tiny print on such things as medicine bottles, instructions, etc.  And its much cheaper than this model.  No matter what you have in mind for this Mighty Bright, I suggest you move on.  My experience with it was that is nothing but aggravating, poorly designed, and a waste of money...\", overall=1, summary='...Wear Glasses And Forget This', unixReviewTime='1306627200', reviewTime='05 29, 2011')]"
      ]
     },
     "execution_count": 33,
     "metadata": {},
     "output_type": "execute_result"
    }
   ],
   "source": [
    "input_data.take(1)"
   ]
  },
  {
   "cell_type": "markdown",
   "metadata": {
    "colab_type": "text",
    "id": "aPAW2igP3XZm"
   },
   "source": [
    "## Data Preparation"
   ]
  },
  {
   "cell_type": "markdown",
   "metadata": {},
   "source": [
    "We are analyzing the sentiment of ReviewText using overall (rating on a scale of 1-5). "
   ]
  },
  {
   "cell_type": "code",
   "execution_count": 32,
   "metadata": {},
   "outputs": [
    {
     "name": "stdout",
     "output_type": "stream",
     "text": [
      "346355\n",
      "346304\n"
     ]
    }
   ],
   "source": [
    "from pyspark.sql.types import ArrayType\n",
    "#input_data = input_data.withColumn(\"review_array\", ArrayType(\"reviewText\"))\n",
    "print(input_data.count())\n",
    "input_data = input_data.filter(\"reviewText != ''\")\n",
    "input_data = input_data.select(\"reviewText\", \"summary\", \"overall\")\n",
    "\n",
    "input_data = input_data.na.drop(subset=[\"reviewText\", \"summary\", \"overall\"])\n",
    "print(input_data.count())\n",
    "#(train_set, test_set) = input_data.randomSplit([0.95, 0.05], seed = 2000)\n",
    "#train_data, test_data = scaled_df.randomSplit([.8,.2],seed=1234)\n",
    "#train_set = train_set.select(\"reviewText\").collect()\n",
    "#test_set = test_set.collect()"
   ]
  },
  {
   "cell_type": "code",
   "execution_count": 31,
   "metadata": {
    "colab": {},
    "colab_type": "code",
    "id": "5jINePPQNhDW"
   },
   "outputs": [
    {
     "data": {
      "text/plain": [
       "[Row(asin='159985130X', helpful=[1, 1], overall=5.0, reviewText=\"this is great little gadget to have around we've already used it to look for splinters and few other uses the light is great it's handy size however do wish i'd bought one with little higher magnification\", reviewTime='01 5, 2011', reviewerID='ALC5GH8CAMAI7', reviewerName='AnnN', summary='Handy little gadget', unixReviewTime=1294185600)]"
      ]
     },
     "execution_count": 31,
     "metadata": {},
     "output_type": "execute_result"
    }
   ],
   "source": [
    "from pyspark.sql.functions import udf\n",
    "from nltk import pos_tag\n",
    "\n",
    "def clean_text(text):\n",
    "    # lower text\n",
    "    text = text.lower()\n",
    "    # tokenize text and remove puncutation\n",
    "    text = [word.strip(string.punctuation) for word in text.split(\" \")]\n",
    "    # remove words that contain numbers\n",
    "    text = [word for word in text if not any(c.isdigit() for c in word)]\n",
    "    # remove stop words\n",
    "    #stop = stopwords.words('english')\n",
    "    #text = [x for x in text if x not in stop]\n",
    "    # remove empty tokens\n",
    "    text = [t for t in text if len(t) > 0]\n",
    "    # pos tag text\n",
    "    #pos_tags = pos_tag(text)\n",
    "    # remove words with only one letter\n",
    "    text = [t for t in text if len(t) > 1]\n",
    "    # join all\n",
    "    text = \" \".join(text)\n",
    "    return(text)\n",
    "\n",
    "clean_text_lambda = udf(lambda z: clean_text(z), StringType())\n",
    "\n",
    "# clean text data\n",
    "input_data = input_data.withColumn(\"reviewText\", clean_text_lambda('reviewText'))\n",
    "input_data.take(1)"
   ]
  },
  {
   "cell_type": "code",
   "execution_count": 33,
   "metadata": {},
   "outputs": [
    {
     "name": "stdout",
     "output_type": "stream",
     "text": [
      "Training Dataset Count: 311599\n",
      "Test Dataset Count: 34705\n",
      "[Row(reviewText=\"a&h make two natural deodorants this nearly unscented version and the one like them both this one has very light scent that pretty much disappears once you apply it these a&h natural deodorants work the best of all the natural ones i've tried they go on with little bit of gel or light layer on the underarm but it goes away quickly and i've never noticed it get on my clothes it absorbs seemingly very quickly it lasts for few to several hours depending on your level of activity but as is par for the course natural deodorants if you sweat you have to reapply throughout the day i've tried many these a&h are my fave as well as the weleda rose spray deodorant plus these are inexpensive\", summary='Good natural deodorant', overall=4.0)]\n"
     ]
    }
   ],
   "source": [
    "train, test = input_data.randomSplit([0.9, 0.1], seed = 2000)\n",
    "print(\"Training Dataset Count: \" + str(train.count()))\n",
    "print(\"Test Dataset Count: \" + str(test.count()))\n",
    "print(train.take(1))"
   ]
  },
  {
   "cell_type": "markdown",
   "metadata": {},
   "source": [
    "With Java 11, I got the following error while trying to fit the model using pipeline.\n",
    "\"Unsupported class file major version 55\"\n",
    "PySpark is not compiled to support Java 11. So, we need to use Java 8 (as of July 2, 2019).\n",
    "More on this https://stackoverflow.com/questions/53583199/pyspark-error-unsupported-class-file-major-version-55"
   ]
  },
  {
   "cell_type": "code",
   "execution_count": 4,
   "metadata": {
    "scrolled": true
   },
   "outputs": [
    {
     "name": "stdout",
     "output_type": "stream",
     "text": [
      "Updating Homebrew...\n",
      "\u001b[34m==>\u001b[0m \u001b[1mAuto-updated Homebrew!\u001b[0m\n",
      "Updated 2 taps (homebrew/core and homebrew/cask).\n",
      "\u001b[34m==>\u001b[0m \u001b[1mUpdated Formulae\u001b[0m\n",
      "agda                       libtrace                   userspace-rcu\n",
      "ammonite-repl              mill                       uwsgi\n",
      "bgpstream                  paket                      vulkan-headers\n",
      "ffsend                     pmd                        wandio\n",
      "helmsman                   re2                        webtorrent-cli\n",
      "imageoptim-cli             sqlmap                     xonsh\n",
      "ios-webkit-debug-proxy     topgrade                   zshdb\n",
      "jenkins                    unzip\n",
      "\n",
      "\u001b[31mError:\u001b[0m Cask 'java8' is unavailable: No Cask with this name exists.\n"
     ]
    }
   ],
   "source": [
    "!brew cask install java8\n",
    "!export JAVA_HOME=/Library/Java/JavaVirtualMachines/jdk1.8.0_211.jdk/Contents/Home\n",
    "#/Library/Java/JavaVirtualMachines/jdk1.8.0_211.jdk/Contents/Home"
   ]
  },
  {
   "cell_type": "code",
   "execution_count": 1,
   "metadata": {},
   "outputs": [
    {
     "name": "stdout",
     "output_type": "stream",
     "text": [
      "java version \"1.8.0_211\"\r\n",
      "Java(TM) SE Runtime Environment (build 1.8.0_211-b12)\r\n",
      "Java HotSpot(TM) 64-Bit Server VM (build 25.211-b12, mixed mode)\r\n"
     ]
    }
   ],
   "source": [
    "!java -version"
   ]
  },
  {
   "cell_type": "markdown",
   "metadata": {},
   "source": [
    "## Understanding each stage that we are adding in the pipeline"
   ]
  },
  {
   "cell_type": "code",
   "execution_count": 14,
   "metadata": {},
   "outputs": [],
   "source": [
    "from pyspark.ml import Pipeline \n",
    "from pyspark.ml.feature import * \n",
    "from pyspark.ml.classification import LogisticRegression"
   ]
  },
  {
   "cell_type": "code",
   "execution_count": null,
   "metadata": {},
   "outputs": [],
   "source": [
    "from pyspark.ml.feature import StopWordsRemover\n",
    "\n",
    "remover = StopWordsRemover(inputCol=\"reviewText\", outputCol=\"filtered_words\")\n",
    "remover.transform(train_set).show(truncate=False)"
   ]
  },
  {
   "cell_type": "markdown",
   "metadata": {},
   "source": [
    "## TFIDF"
   ]
  },
  {
   "cell_type": "markdown",
   "metadata": {},
   "source": [
    "In order to obtain TFIDF, we perform Tokenizer and Hashing"
   ]
  },
  {
   "cell_type": "code",
   "execution_count": 34,
   "metadata": {},
   "outputs": [],
   "source": [
    "tokenizer = Tokenizer(inputCol=\"reviewText\", outputCol=\"words\")\n",
    "\n",
    "hashingTF = HashingTF(inputCol=\"words\", outputCol=\"rawFeatures\", numFeatures=20)\n",
    "\n",
    "idf = IDF(inputCol=\"rawFeatures\", outputCol=\"features\")\n",
    "\n",
    "label_stringIdx = StringIndexer(inputCol = \"overall\", outputCol = \"label\")\n",
    "\n",
    "pipeline = Pipeline(stages=[tokenizer, hashingTF, idf, label_stringIdx])\n",
    "pipelineFit = pipeline.fit(train)\n",
    "train_df = pipelineFit.transform(train)\n",
    "\n",
    "lr = LogisticRegression(maxIter=100)\n",
    "lrModel = lr.fit(train_df)\n"
   ]
  },
  {
   "cell_type": "code",
   "execution_count": 35,
   "metadata": {},
   "outputs": [
    {
     "name": "stdout",
     "output_type": "stream",
     "text": [
      "+--------------------+--------------------+-------+--------------------+--------------------+--------------------+-----+--------------------+--------------------+----------+\n",
      "|          reviewText|             summary|overall|               words|         rawFeatures|            features|label|       rawPrediction|         probability|prediction|\n",
      "+--------------------+--------------------+-------+--------------------+--------------------+--------------------+-----+--------------------+--------------------+----------+\n",
      "|aawwee when they ...|Owner since 2007 ...|    5.0|[aawwee, when, th...|(20,[0,1,2,3,4,5,...|(20,[0,1,2,3,4,5,...|  0.0|[1.70234126402306...|[0.62651538565055...|       0.0|\n",
      "|about year ago be...|Stopped my eyelid...|    5.0|[about, year, ago...|(20,[0,1,2,3,4,5,...|(20,[0,1,2,3,4,5,...|  0.0|[1.43317017244373...|[0.44746218554957...|       0.0|\n",
      "|abreva works used...|Wish I'd found th...|    5.0|[abreva, works, u...|(20,[0,1,3,4,5,6,...|(20,[0,1,3,4,5,6,...|  0.0|[1.20754745643431...|[0.44801033217978...|       0.0|\n",
      "|absolutely amazin...|            Awesome!|    5.0|[absolutely, amaz...|(20,[0,1,2,3,4,5,...|(20,[0,1,2,3,4,5,...|  0.0|[1.46010632101683...|[0.58745917352308...|       0.0|\n",
      "|absolutely great ...|    Wow! Great deal!|    5.0|[absolutely, grea...|(20,[0,1,3,4,5,6,...|(20,[0,1,3,4,5,6,...|  0.0|[1.73333152014935...|[0.65585527664826...|       0.0|\n",
      "|absolutely love b...|I love this primr...|    5.0|[absolutely, love...|(20,[0,1,2,3,4,5,...|(20,[0,1,2,3,4,5,...|  0.0|[2.82177017293154...|[0.87007218263277...|       0.0|\n",
      "|absolutely love b...|Burt's bees original|    3.0|[absolutely, love...|(20,[0,1,3,4,5,6,...|(20,[0,1,3,4,5,6,...|  2.0|[0.87970574630390...|[0.40512857268635...|       0.0|\n",
      "|absolutely love h...|  This is the stuff.|    5.0|[absolutely, love...|(20,[0,1,2,3,4,5,...|(20,[0,1,2,3,4,5,...|  0.0|[1.57023122326721...|[0.57706379831086...|       0.0|\n",
      "|absolutely love i...|Ibuprofen is an a...|    5.0|[absolutely, love...|(20,[0,1,3,4,5,6,...|(20,[0,1,3,4,5,6,...|  0.0|[1.87833852081894...|[0.67899742983614...|       0.0|\n",
      "|absolutely love t...|       Dust be gone.|    5.0|[absolutely, love...|(20,[0,1,2,3,5,6,...|(20,[0,1,2,3,5,6,...|  0.0|[1.83440196040291...|[0.62122170283082...|       0.0|\n",
      "+--------------------+--------------------+-------+--------------------+--------------------+--------------------+-----+--------------------+--------------------+----------+\n",
      "only showing top 10 rows\n",
      "\n"
     ]
    }
   ],
   "source": [
    "test_df = pipelineFit.transform(test)\n",
    "\n",
    "predictions = lrModel.transform(test_df)\n",
    "\n",
    "predictions.show(10)\n",
    "\n",
    "#from pyspark.ml.evaluation import BinaryClassificationEvaluator\n",
    "#evaluator = BinaryClassificationEvaluator(rawPredictionCol=\"overall\")\n",
    "#evaluator.evaluate(predictions)"
   ]
  },
  {
   "cell_type": "code",
   "execution_count": 21,
   "metadata": {},
   "outputs": [
    {
     "name": "stdout",
     "output_type": "stream",
     "text": [
      "+-----------------------------------------------------------------------------------------------------------------------------------------------------------------------------------------------------------------------------------------------------------------------------------------------------------------------------------------------------------------------------------------------------------------------------------------------------------------------------------------------------------------------------------------------------------------------------------------------------------------------------------------------------------------------------------------------------------------------------------------------------------------------------------------------------------------------------------------------------------------------------------------------------------------------------------------------------------------------------------------------------------------------------------------------------------------------------------------------------------------------------------------------------------------------------------------------------------------------------------------------+-------+---------------------------------------------------------------------------------------------------------------------------------------------------------------------------------------------------------------------------------------------------------------------------------------------------------------------------------------------------------------------------------------------------------------------------------------------------------------------------------------------------------------------------------------------------------------------------------------------------------------------------------------------------------------------------------------------------------------------------------------------------------------------------------------------------------------------------------------------------------------------------------------------------------------------------------------------------------------------------------------------------------------------------------------------------------------------------------------------------------------------------------------------------------------------------------------------------------------------------------------------------------------------------------------------------------------------------------------------------------------------------------------------------------------------------------------------------------------------------------------+--------------------------+\n",
      "|reviewText                                                                                                                                                                                                                                                                                                                                                                                                                                                                                                                                                                                                                                                                                                                                                                                                                                                                                                                                                                                                                                                                                                                                                                                                                                     |overall|words                                                                                                                                                                                                                                                                                                                                                                                                                                                                                                                                                                                                                                                                                                                                                                                                                                                                                                                                                                                                                                                                                                                                                                                                                                                                                                                                                                                                                                                                                  |features                  |\n",
      "+-----------------------------------------------------------------------------------------------------------------------------------------------------------------------------------------------------------------------------------------------------------------------------------------------------------------------------------------------------------------------------------------------------------------------------------------------------------------------------------------------------------------------------------------------------------------------------------------------------------------------------------------------------------------------------------------------------------------------------------------------------------------------------------------------------------------------------------------------------------------------------------------------------------------------------------------------------------------------------------------------------------------------------------------------------------------------------------------------------------------------------------------------------------------------------------------------------------------------------------------------+-------+---------------------------------------------------------------------------------------------------------------------------------------------------------------------------------------------------------------------------------------------------------------------------------------------------------------------------------------------------------------------------------------------------------------------------------------------------------------------------------------------------------------------------------------------------------------------------------------------------------------------------------------------------------------------------------------------------------------------------------------------------------------------------------------------------------------------------------------------------------------------------------------------------------------------------------------------------------------------------------------------------------------------------------------------------------------------------------------------------------------------------------------------------------------------------------------------------------------------------------------------------------------------------------------------------------------------------------------------------------------------------------------------------------------------------------------------------------------------------------------+--------------------------+\n",
      "|This is a great little gadget to have around.  We've already used it to look for splinters and a few other uses.  The light is great.  It's a handy size.  However, I do wish I'd bought one with a little higher magnification.                                                                                                                                                                                                                                                                                                                                                                                                                                                                                                                                                                                                                                                                                                                                                                                                                                                                                                                                                                                                               |5.0    |[this, is, a, great, little, gadget, to, have, around., , we've, already, used, it, to, look, for, splinters, and, a, few, other, uses., , the, light, is, great., , it's, a, handy, size., , however,, i, do, wish, i'd, bought, one, with, a, little, higher, magnification.]                                                                                                                                                                                                                                                                                                                                                                                                                                                                                                                                                                                                                                                                                                                                                                                                                                                                                                                                                                                                                                                                                                                                                                                                        |(3,[0,1,2],[1.0,1.0,1.0]) |\n",
      "|I would recommend this for a travel magnifier for the occasional reading.I had read on another review about a magnifier having a problem with the light coming on. I did find that this one appeared to be DOA out of the box. But, after opening & shutting the viewer to turn on & off the light, the light began to come on. After several times of doing this, the light appears to be coming on all the time.It is small, but for taking it someplace & reading things like a menu in a dark corner of a restaurant, this is great.                                                                                                                                                                                                                                                                                                                                                                                                                                                                                                                                                                                                                                                                                                       |4.0    |[i, would, recommend, this, for, a, travel, magnifier, for, the, occasional, reading.i, had, read, on, another, review, about, a, magnifier, having, a, problem, with, the, light, coming, on., i, did, find, that, this, one, appeared, to, be, doa, out, of, the, box., but,, after, opening, &, shutting, the, viewer, to, turn, on, &, off, the, light,, the, light, began, to, come, on., after, several, times, of, doing, this,, the, light, appears, to, be, coming, on, all, the, time.it, is, small,, but, for, taking, it, someplace, &, reading, things, like, a, menu, in, a, dark, corner, of, a, restaurant,, this, is, great.]                                                                                                                                                                                                                                                                                                                                                                                                                                                                                                                                                                                                                                                                                                                                                                                                                                         |(3,[0,1],[8.0,2.0])       |\n",
      "|What I liked was the quality of the lens and the built in light.  Then lens had no discernable distortion anywhere.  It magnified everything evenly without the ripples and  distortion that I've seen with other low cost magnifiers.  This light is a nice touch and easy to use.  If you want it on just pull the lens out a bit.  It is focused very close to the center of what you will be look at and provides nice, even coverage.What I didn't like was the brightness (actually dimmness) of the light and where it is focused.  LEDs can be lots brighter, I know as I've seen them.  Also, the light focuses at the center of you field of view but only when the lens is too close to be focused properly.Bottom line is this is a good value for a magnifier and could have been made great with better quality control.BTW, I feel that honest, effective reviews can take the place of first-hand experiences that are lacking in online shopping. I've always appreciated the help I've received from other reviewers and work hard to return the favor as best as I can.  I hope you found this review helpful and if there was anything you thought was lacking or unclear leave a comment and I'll do what I can to fix it.|4.0    |[what, i, liked, was, the, quality, of, the, lens, and, the, built, in, light., , then, lens, had, no, discernable, distortion, anywhere., , it, magnified, everything, evenly, without, the, ripples, and, , distortion, that, i've, seen, with, other, low, cost, magnifiers., , this, light, is, a, nice, touch, and, easy, to, use., , if, you, want, it, on, just, pull, the, lens, out, a, bit., , it, is, focused, very, close, to, the, center, of, what, you, will, be, look, at, and, provides, nice,, even, coverage.what, i, didn't, like, was, the, brightness, (actually, dimmness), of, the, light, and, where, it, is, focused., , leds, can, be, lots, brighter,, i, know, as, i've, seen, them., , also,, the, light, focuses, at, the, center, of, you, field, of, view, but, only, when, the, lens, is, too, close, to, be, focused, properly.bottom, line, is, this, is, a, good, value, for, a, magnifier, and, could, have, been, made, great, with, better, quality, control.btw,, i, feel, that, honest,, effective, reviews, can, take, the, place, of, first-hand, experiences, that, are, lacking, in, online, shopping., i've, always, appreciated, the, help, i've, received, from, other, reviewers, and, work, hard, to, return, the, favor, as, best, as, i, can., , i, hope, you, found, this, review, helpful, and, if, there, was, anything, you, thought, was, lacking, or, unclear, leave, a, comment, and, i'll, do, what, i, can, to, fix, it.]|(3,[0,1,2],[14.0,7.0,9.0])|\n",
      "|Love the Great point light pocket magnifier!  works great, especially if you forget your glasses and can't read the menu when you are out for dinner.... the light is a bonus in a dark restaurant, too.  I would have given 5 stars if it came with a case that covers the glass.  The clear plastic case it comes in is a little tacky and I'd be willing to pay a little more for a nice case to protec the lens.                                                                                                                                                                                                                                                                                                                                                                                                                                                                                                                                                                                                                                                                                                                                                                                                                           |4.0    |[love, the, great, point, light, pocket, magnifier!, , works, great,, especially, if, you, forget, your, glasses, and, can't, read, the, menu, when, you, are, out, for, dinner...., the, light, is, a, bonus, in, a, dark, restaurant,, too., , i, would, have, given, 5, stars, if, it, came, with, a, case, that, covers, the, glass., , the, clear, plastic, case, it, comes, in, is, a, little, tacky, and, i'd, be, willing, to, pay, a, little, more, for, a, nice, case, to, protec, the, lens.]                                                                                                                                                                                                                                                                                                                                                                                                                                                                                                                                                                                                                                                                                                                                                                                                                                                                                                                                                                               |(3,[0,1,2],[6.0,1.0,2.0]) |\n",
      "|This is very nice. You pull out on the magnifier when you want the light to come on, then slide it back in. I would recommend buying this if you need something with a light that you can easily put in your pocket or purse.                                                                                                                                                                                                                                                                                                                                                                                                                                                                                                                                                                                                                                                                                                                                                                                                                                                                                                                                                                                                                  |5.0    |[this, is, very, nice., you, pull, out, on, the, magnifier, when, you, want, the, light, to, come, on,, then, slide, it, back, in., i, would, recommend, buying, this, if, you, need, something, with, a, light, that, you, can, easily, put, in, your, pocket, or, purse.]                                                                                                                                                                                                                                                                                                                                                                                                                                                                                                                                                                                                                                                                                                                                                                                                                                                                                                                                                                                                                                                                                                                                                                                                            |(3,[0,1],[2.0,1.0])       |\n",
      "|The light comes on when the item is pulled.  This is much easier to use than the plastic bookmark magnifier and the bar magnifier I previously purchased.  I was glad to have it lit when I needed to see the serial number on the back of  an ipod.                                                                                                                                                                                                                                                                                                                                                                                                                                                                                                                                                                                                                                                                                                                                                                                                                                                                                                                                                                                           |5.0    |[the, light, comes, on, when, the, item, is, pulled., , this, is, much, easier, to, use, than, the, plastic, bookmark, magnifier, and, the, bar, magnifier, i, previously, purchased., , i, was, glad, to, have, it, lit, when, i, needed, to, see, the, serial, number, on, the, back, of, , an, ipod.]                                                                                                                                                                                                                                                                                                                                                                                                                                                                                                                                                                                                                                                                                                                                                                                                                                                                                                                                                                                                                                                                                                                                                                               |(3,[0,1,2],[6.0,3.0,1.0]) |\n",
      "|These are lightweight and efficient and have some very good points:- the batteries last 2-3 months with daily use.- the LED is bright enough and adequately covers the whole magnified area under the 3X lens-- the lens itself is glass and good quality- the shell is plastic and it&#8217;s very light (but may not take a beating over time)-  it&#8217;s easy to open and turn on the light and the sliding mechanism has never failedI bought a six-pack of these from another vendor and all I can say is to shop around because prices vary tremendously.  I use this magnifier to inspect seeds and leaves.  I keep these magnifiers on my desk, in my briefcase, and in a backpack and I like them a lot.                                                                                                                                                                                                                                                                                                                                                                                                                                                                                                                            |4.0    |[these, are, lightweight, and, efficient, and, have, some, very, good, points:-, the, batteries, last, 2-3, months, with, daily, use.-, the, led, is, bright, enough, and, adequately, covers, the, whole, magnified, area, under, the, 3x, lens--, the, lens, itself, is, glass, and, good, quality-, the, shell, is, plastic, and, it&#8217;s, very, light, (but, may, not, take, a, beating, over, time)-, , it&#8217;s, easy, to, open, and, turn, on, the, light, and, the, sliding, mechanism, has, never, failedi, bought, a, six-pack, of, these, from, another, vendor, and, all, i, can, say, is, to, shop, around, because, prices, vary, tremendously., , i, use, this, magnifier, to, inspect, seeds, and, leaves., , i, keep, these, magnifiers, on, my, desk,, in, my, briefcase,, and, in, a, backpack, and, i, like, them, a, lot.]                                                                                                                                                                                                                                                                                                                                                                                                                                                                                                                                                                                                                                   |(3,[0,1,2],[8.0,4.0,11.0])|\n",
      "|We bought one for road trips and trying to interpret maps without having to strain our eyes. Really nice design, good tactile feel. I couldn't figure out where the batteries were, sent Lightwedge Customer Service an email and received a response within 24 hours. If you need one I'd recommend this one.                                                                                                                                                                                                                                                                                                                                                                                                                                                                                                                                                                                                                                                                                                                                                                                                                                                                                                                                 |5.0    |[we, bought, one, for, road, trips, and, trying, to, interpret, maps, without, having, to, strain, our, eyes., really, nice, design,, good, tactile, feel., i, couldn't, figure, out, where, the, batteries, were,, sent, lightwedge, customer, service, an, email, and, received, a, response, within, 24, hours., if, you, need, one, i'd, recommend, this, one.]                                                                                                                                                                                                                                                                                                                                                                                                                                                                                                                                                                                                                                                                                                                                                                                                                                                                                                                                                                                                                                                                                                                    |(3,[0,1,2],[1.0,1.0,2.0]) |\n",
      "|The screen of the magnifier is small. If you're looking to read text this is not going to work. Though I have not attempted to replace the battery, battery container seems to be contained by a very small screw-A Phillips screwdriver-of which would have to be incredibly small. I dread having to replace his battery.                                                                                                                                                                                                                                                                                                                                                                                                                                                                                                                                                                                                                                                                                                                                                                                                                                                                                                                    |3.0    |[the, screen, of, the, magnifier, is, small., if, you're, looking, to, read, text, this, is, not, going, to, work., though, i, have, not, attempted, to, replace, the, battery,, battery, container, seems, to, be, contained, by, a, very, small, screw-a, phillips, screwdriver-of, which, would, have, to, be, incredibly, small., i, dread, having, to, replace, his, battery.]                                                                                                                                                                                                                                                                                                                                                                                                                                                                                                                                                                                                                                                                                                                                                                                                                                                                                                                                                                                                                                                                                                    |(3,[0,1],[3.0,2.0])       |\n",
      "|This pocket magnifier is nice and compact.  The slide out feature makes it so it will fit into a small area when storing.  Light is nice and bright                                                                                                                                                                                                                                                                                                                                                                                                                                                                                                                                                                                                                                                                                                                                                                                                                                                                                                                                                                                                                                                                                            |4.0    |[this, pocket, magnifier, is, nice, and, compact., , the, slide, out, feature, makes, it, so, it, will, fit, into, a, small, area, when, storing., , light, is, nice, and, bright]                                                                                                                                                                                                                                                                                                                                                                                                                                                                                                                                                                                                                                                                                                                                                                                                                                                                                                                                                                                                                                                                                                                                                                                                                                                                                                     |(3,[0,2],[1.0,2.0])       |\n",
      "|Seems to be a legit 3X.  I bought my first and everything perfect.  So I bought a 2nd for my nephew - but that one had the light issue someone else mentioned (really dim, flickering).  Before I sent it back, I wanted to check the batteries - so I unscrewed where they are, took them out, but it looked like the contact on the right battery on the unit(uses 2 small watch-like ones) had some kind of grime on it - wiped that off, and I also bent the little tab to stick out a little more to give it a better contact on the battery - did that for the other side as well (it's different because of the +/- but you can bend both sides out a little).  After that, put the batteries back in and it works like my good one.                                                                                                                                                                                                                                                                                                                                                                                                                                                                                                    |5.0    |[seems, to, be, a, legit, 3x., , i, bought, my, first, and, everything, perfect., , so, i, bought, a, 2nd, for, my, nephew, -, but, that, one, had, the, light, issue, someone, else, mentioned, (really, dim,, flickering)., , before, i, sent, it, back,, i, wanted, to, check, the, batteries, -, so, i, unscrewed, where, they, are,, took, them, out,, but, it, looked, like, the, contact, on, the, right, battery, on, the, unit(uses, 2, small, watch-like, ones), had, some, kind, of, grime, on, it, -, wiped, that, off,, and, i, also, bent, the, little, tab, to, stick, out, a, little, more, to, give, it, a, better, contact, on, the, battery, -, did, that, for, the, other, side, as, well, (it's, different, because, of, the, +/-, but, you, can, bend, both, sides, out, a, little)., , after, that,, put, the, batteries, back, in, and, it, works, like, my, good, one.]                                                                                                                                                                                                                                                                                                                                                                                                                                                                                                                                                                                       |(3,[0,1,2],[10.0,6.0,3.0])|\n",
      "|I'll admit it.  I fought like crazy when people started suggesting that I get a magnifying glass.  Yes, I could no longer some menu descriptions, especially in low light.  And when I needed to see the model number on an electronic device's sticker, and couldn't, well, that was a problem too.  After I accepted that I had a problem, I refused to get an old-fashioned magnifier, like my mother uses.  So, I looked around and this caught my eye (haha). I've been using it for a few weeks now and I love it.  It is black and sleek, and, yes gets the job done.  And, those low light environments?  No longer a problem, since this has a built in light that turns on when you slide open the magnifier.                                                                                                                                                                                                                                                                                                                                                                                                                                                                                                                        |5.0    |[i'll, admit, it., , i, fought, like, crazy, when, people, started, suggesting, that, i, get, a, magnifying, glass., , yes,, i, could, no, longer, some, menu, descriptions,, especially, in, low, light., , and, when, i, needed, to, see, the, model, number, on, an, electronic, device's, sticker,, and, couldn't,, well,, that, was, a, problem, too., , after, i, accepted, that, i, had, a, problem,, i, refused, to, get, an, old-fashioned, magnifier,, like, my, mother, uses., , so,, i, looked, around, and, this, caught, my, eye, (haha)., i've, been, using, it, for, a, few, weeks, now, and, i, love, it., , it, is, black, and, sleek,, and,, yes, gets, the, job, done., , and,, those, low, light, environments?, , no, longer, a, problem,, since, this, has, a, built, in, light, that, turns, on, when, you, slide, open, the, magnifier.]                                                                                                                                                                                                                                                                                                                                                                                                                                                                                                                                                                                                                      |(3,[0,1,2],[3.0,9.0,5.0]) |\n",
      "|This magnifier is just what I was looking for. It is small and easy to hold. I wanted something to read small numbers/characters on electronic stuff like computers, electronics, etc. I also work on the insides of computers and this is great for seeing small things. I don't want to magnify books or magazines. The light works well and makes reading small things very easy.                                                                                                                                                                                                                                                                                                                                                                                                                                                                                                                                                                                                                                                                                                                                                                                                                                                           |5.0    |[this, magnifier, is, just, what, i, was, looking, for., it, is, small, and, easy, to, hold., i, wanted, something, to, read, small, numbers/characters, on, electronic, stuff, like, computers,, electronics,, etc., i, also, work, on, the, insides, of, computers, and, this, is, great, for, seeing, small, things., i, don't, want, to, magnify, books, or, magazines., the, light, works, well, and, makes, reading, small, things, very, easy.]                                                                                                                                                                                                                                                                                                                                                                                                                                                                                                                                                                                                                                                                                                                                                                                                                                                                                                                                                                                                                                 |(3,[0,1,2],[2.0,4.0,3.0]) |\n",
      "|Most of the purses I own have black lining.  Good luck finding anything black in black purse!  I chose this color because I can actually find it!!!  It works wonderfully in a dimly lit restaurant, when the print is really small, when I need a light & a magnifier to find the splinter.  WONDERFUL.                                                                                                                                                                                                                                                                                                                                                                                                                                                                                                                                                                                                                                                                                                                                                                                                                                                                                                                                       |5.0    |[most, of, the, purses, i, own, have, black, lining., , good, luck, finding, anything, black, in, black, purse!, , i, chose, this, color, because, i, can, actually, find, it!!!, , it, works, wonderfully, in, a, dimly, lit, restaurant,, when, the, print, is, really, small,, when, i, need, a, light, &, a, magnifier, to, find, the, splinter., , wonderful.]                                                                                                                                                                                                                                                                                                                                                                                                                                                                                                                                                                                                                                                                                                                                                                                                                                                                                                                                                                                                                                                                                                                    |(3,[0,1],[3.0,4.0])       |\n",
      "|I got two of these - one for my mom and one for my mother-in-law, both in their 80s.  What I wonder is why i didn't get one for me?  I will be wanting to order another for myself.  These were a big hit for these ladies and so useful.  As we age, we need more light to see what was once easy for us to read.  Often we are in areas where the lighting is poor or minimal.  This answers that need.  If you are looking for a product like this, try it.  It will meet your needs.                                                                                                                                                                                                                                                                                                                                                                                                                                                                                                                                                                                                                                                                                                                                                       |5.0    |[i, got, two, of, these, -, one, for, my, mom, and, one, for, my, mother-in-law,, both, in, their, 80s., , what, i, wonder, is, why, i, didn't, get, one, for, me?, , i, will, be, wanting, to, order, another, for, myself., , these, were, a, big, hit, for, these, ladies, and, so, useful., , as, we, age,, we, need, more, light, to, see, what, was, once, easy, for, us, to, read., , often, we, are, in, areas, where, the, lighting, is, poor, or, minimal., , this, answers, that, need., , if, you, are, looking, for, a, product, like, this,, try, it., , it, will, meet, your, needs.]                                                                                                                                                                                                                                                                                                                                                                                                                                                                                                                                                                                                                                                                                                                                                                                                                                                                                   |(3,[0,1,2],[1.0,4.0,2.0]) |\n",
      "|I only gave this 4 stars instead of 5, because of the packaging it comes in.  The plastic is sharp & isn't that easy to carry in your bag without stabbing yourself on it, but without the plastic box, the magnifier would get very scratched.  I may discard the plastic box, but keep the magnifier in something soft, like a small sock.  Otherwise, the magnifier works great.                                                                                                                                                                                                                                                                                                                                                                                                                                                                                                                                                                                                                                                                                                                                                                                                                                                            |4.0    |[i, only, gave, this, 4, stars, instead, of, 5,, because, of, the, packaging, it, comes, in., , the, plastic, is, sharp, &, isn't, that, easy, to, carry, in, your, bag, without, stabbing, yourself, on, it,, but, without, the, plastic, box,, the, magnifier, would, get, very, scratched., , i, may, discard, the, plastic, box,, but, keep, the, magnifier, in, something, soft,, like, a, small, sock., , otherwise,, the, magnifier, works, great.]                                                                                                                                                                                                                                                                                                                                                                                                                                                                                                                                                                                                                                                                                                                                                                                                                                                                                                                                                                                                                             |(3,[0,1],[7.0,2.0])       |\n",
      "|This is a great little portable magnifier with light.  I bought 2 of them so I could keep one in my purse and have one for my desk.  However, my husband liked the blue one so much he took off with one and now I need to re-order!It is slightly curved so it feels good in your grip.  Closed, it measures about as long as your standard full-sized desktop mouse and about a half inch thick.  The viewing glass area is about as big as the face/screen of a flip style cell phone.  When open it emits an impressively strong light that works like a champ in the darkest of rooms. As it is an LED light it should have a very long operating life as LEDs don't require a lot of power.  Presumably the battery could be changed if needed as there is a small door with a single screw located behind where the light is housed.  5 stars!                                                                                                                                                                                                                                                                                                                                                                                          |5.0    |[this, is, a, great, little, portable, magnifier, with, light., , i, bought, 2, of, them, so, i, could, keep, one, in, my, purse, and, have, one, for, my, desk., , however,, my, husband, liked, the, blue, one, so, much, he, took, off, with, one, and, now, i, need, to, re-order!it, is, slightly, curved, so, it, feels, good, in, your, grip., , closed,, it, measures, about, as, long, as, your, standard, full-sized, desktop, mouse, and, about, a, half, inch, thick., , the, viewing, glass, area, is, about, as, big, as, the, face/screen, of, a, flip, style, cell, phone., , when, open, it, emits, an, impressively, strong, light, that, works, like, a, champ, in, the, darkest, of, rooms., as, it, is, an, led, light, it, should, have, a, very, long, operating, life, as, leds, don't, require, a, lot, of, power., , presumably, the, battery, could, be, changed, if, needed, as, there, is, a, small, door, with, a, single, screw, located, behind, where, the, light, is, housed., , 5, stars!]                                                                                                                                                                                                                                                                                                                                                                                                                                                          |(3,[0,1,2],[6.0,3.0,3.0]) |\n",
      "|This magnifier has nothing to cover it when not in use.I compared it with a Carson 3x magnifier and this one did not seem as clear as the Carson - hard to see the furigana clearly in Japanese comic books with this one.The Carson ones come with a cover.I would recommend the Carson 5x if you are looking for good size enlarging.Carson MiniBrite 5x Power Slide- Out MagnifierI wish I had skipped the 3x and gone with the 5x only.For this one in the 3x, the light works well and lights things up nicely.Carson MiniBrite 5x Power Slide- Out Magnifier                                                                                                                                                                                                                                                                                                                                                                                                                                                                                                                                                                                                                                                                             |3.0    |[this, magnifier, has, nothing, to, cover, it, when, not, in, use.i, compared, it, with, a, carson, 3x, magnifier, and, this, one, did, not, seem, as, clear, as, the, carson, -, hard, to, see, the, furigana, clearly, in, japanese, comic, books, with, this, one.the, carson, ones, come, with, a, cover.i, would, recommend, the, carson, 5x, if, you, are, looking, for, good, size, enlarging.carson, minibrite, 5x, power, slide-, out, magnifieri, wish, i, had, skipped, the, 3x, and, gone, with, the, 5x, only.for, this, one, in, the, 3x,, the, light, works, well, and, lights, things, up, nicely.carson, minibrite, 5x, power, slide-, out, magnifier]                                                                                                                                                                                                                                                                                                                                                                                                                                                                                                                                                                                                                                                                                                                                                                                                                |(3,[0,1,2],[7.0,1.0,3.0]) |\n",
      "|I carry this around in my bag (just in case).  I will have to make a little sleeve for it so that I can cut down on the lint & scratches that it collects, though.  It works very well and is the perfect size--not too big to be gauche, not too small to be ineffective.                                                                                                                                                                                                                                                                                                                                                                                                                                                                                                                                                                                                                                                                                                                                                                                                                                                                                                                                                                     |5.0    |[i, carry, this, around, in, my, bag, (just, in, case)., , i, will, have, to, make, a, little, sleeve, for, it, so, that, i, can, cut, down, on, the, lint, &, scratches, that, it, collects,, though., , it, works, very, well, and, is, the, perfect, size--not, too, big, to, be, gauche,, not, too, small, to, be, ineffective.]                                                                                                                                                                                                                                                                                                                                                                                                                                                                                                                                                                                                                                                                                                                                                                                                                                                                                                                                                                                                                                                                                                                                                   |(3,[0,1,2],[2.0,3.0,1.0]) |\n",
      "|UPDATE: This model has been bought out by Walgreens. The newer Walgreens version uses three AAA batteries instead of the CR1130 batteries this obsolete model uses. Go to the Walgreens website to find it. You cannot buy it on their website, but Walgreens online has a zip code locator for a stocking store near you. Search Walgreens site search for \"magnifier\". Also look at Walgreens branded \"Walgreens Led Magnifold 2X Rectangular Folding Magnifier\". It's a lot bigger hand held grip. It's listed under $14.These are no longer available through Amazon. They were $10 each. Those are sold out and have not been replenished. I have seen these exact same lighted magnifiers listed under the Walgreens brand for $15. I assume Walgreens bought the rights. They've done that with a lot of very popular products.My elderly Mother loves this lighted magnifier. I love it too. So many things out there I cannot read because the print is small and the background color washes out the letters (dark). From over the counter pill bottles to every day packaging, this thing is a life saver.                                                                                                                          |5.0    |[update:, this, model, has, been, bought, out, by, walgreens., the, newer, walgreens, version, uses, three, aaa, batteries, instead, of, the, cr1130, batteries, this, obsolete, model, uses., go, to, the, walgreens, website, to, find, it., you, cannot, buy, it, on, their, website,, but, walgreens, online, has, a, zip, code, locator, for, a, stocking, store, near, you., search, walgreens, site, search, for, \"magnifier\"., also, look, at, walgreens, branded, \"walgreens, led, magnifold, 2x, rectangular, folding, magnifier\"., it's, a, lot, bigger, hand, held, grip., it's, listed, under, $14.these, are, no, longer, available, through, amazon., they, were, $10, each., those, are, sold, out, and, have, not, been, replenished., i, have, seen, these, exact, same, lighted, magnifiers, listed, under, the, walgreens, brand, for, $15., i, assume, walgreens, bought, the, rights., they've, done, that, with, a, lot, of, very, popular, products.my, elderly, mother, loves, this, lighted, magnifier., i, love, it, too., so, many, things, out, there, i, cannot, read, because, the, print, is, small, and, the, background, color, washes, out, the, letters, (dark)., from, over, the, counter, pill, bottles, to, every, day, packaging,, this, thing, is, a, life, saver.]                                                                                                                                                                           |(3,[0,1,2],[9.0,4.0,2.0]) |\n",
      "+-----------------------------------------------------------------------------------------------------------------------------------------------------------------------------------------------------------------------------------------------------------------------------------------------------------------------------------------------------------------------------------------------------------------------------------------------------------------------------------------------------------------------------------------------------------------------------------------------------------------------------------------------------------------------------------------------------------------------------------------------------------------------------------------------------------------------------------------------------------------------------------------------------------------------------------------------------------------------------------------------------------------------------------------------------------------------------------------------------------------------------------------------------------------------------------------------------------------------------------------------+-------+---------------------------------------------------------------------------------------------------------------------------------------------------------------------------------------------------------------------------------------------------------------------------------------------------------------------------------------------------------------------------------------------------------------------------------------------------------------------------------------------------------------------------------------------------------------------------------------------------------------------------------------------------------------------------------------------------------------------------------------------------------------------------------------------------------------------------------------------------------------------------------------------------------------------------------------------------------------------------------------------------------------------------------------------------------------------------------------------------------------------------------------------------------------------------------------------------------------------------------------------------------------------------------------------------------------------------------------------------------------------------------------------------------------------------------------------------------------------------------------+--------------------------+\n",
      "only showing top 20 rows\n",
      "\n"
     ]
    }
   ],
   "source": [
    "tokenizer = Tokenizer(inputCol=\"reviewText\", outputCol=\"words\")\n",
    "wordsData = tokenizer.transform(train)\n",
    "\n",
    "cv = CountVectorizer(inputCol=\"words\", outputCol=\"features\", vocabSize=3, minDF=2.0)\n",
    "\n",
    "model = cv.fit(wordsData)\n",
    "result = model.transform(wordsData)\n",
    "result.show(truncate=False)"
   ]
  },
  {
   "cell_type": "code",
   "execution_count": 74,
   "metadata": {},
   "outputs": [
    {
     "data": {
      "text/plain": [
       "[Row(reviewText=\"Absolutely hated it!I thought it was odorless but it is not, it smells like some harmful organic solvent, definitely not unpleasant.The 5 stars comments say that it never gets sticky, this is simply NOT true! I rubbed it on my palm for very short amount of time (less than 30 secs) and not only it got really sticky, it dried up COMPLETELY (I used like a bit more than toothpaste size).NOT recommended....I'm sure there are better lubs out there\", overall=1.0, words=['absolutely', 'hated', 'it!i', 'thought', 'it', 'was', 'odorless', 'but', 'it', 'is', 'not,', 'it', 'smells', 'like', 'some', 'harmful', 'organic', 'solvent,', 'definitely', 'not', 'unpleasant.the', '5', 'stars', 'comments', 'say', 'that', 'it', 'never', 'gets', 'sticky,', 'this', 'is', 'simply', 'not', 'true!', 'i', 'rubbed', 'it', 'on', 'my', 'palm', 'for', 'very', 'short', 'amount', 'of', 'time', '(less', 'than', '30', 'secs)', 'and', 'not', 'only', 'it', 'got', 'really', 'sticky,', 'it', 'dried', 'up', 'completely', '(i', 'used', 'like', 'a', 'bit', 'more', 'than', 'toothpaste', 'size).not', \"recommended....i'm\", 'sure', 'there', 'are', 'better', 'lubs', 'out', 'there'], tf=SparseVector(200, {0: 1.0, 4: 2.0, 5: 1.0, 7: 1.0, 9: 1.0, 13: 1.0, 18: 3.0, 19: 1.0, 21: 2.0, 23: 1.0, 25: 1.0, 29: 1.0, 31: 2.0, 34: 1.0, 36: 1.0, 38: 1.0, 46: 1.0, 47: 1.0, 49: 1.0, 52: 1.0, 54: 1.0, 61: 2.0, 74: 1.0, 81: 3.0, 82: 1.0, 83: 1.0, 88: 1.0, 89: 1.0, 90: 3.0, 95: 7.0, 96: 1.0, 99: 1.0, 103: 1.0, 105: 1.0, 108: 1.0, 109: 1.0, 110: 1.0, 111: 1.0, 116: 1.0, 119: 1.0, 120: 1.0, 126: 1.0, 127: 1.0, 128: 1.0, 129: 1.0, 130: 2.0, 133: 1.0, 137: 1.0, 138: 1.0, 139: 1.0, 141: 1.0, 143: 2.0, 144: 1.0, 157: 1.0, 160: 1.0, 164: 1.0, 166: 1.0, 170: 1.0, 173: 1.0, 177: 1.0, 195: 1.0}), features=SparseVector(200, {0: 1.0817, 4: 3.6637, 5: 1.3632, 7: 1.3303, 9: 2.0675, 13: 1.0716, 18: 2.0471, 19: 2.0541, 21: 2.5763, 23: 1.6009, 25: 0.8555, 29: 1.4444, 31: 2.5233, 34: 0.9393, 36: 0.5061, 38: 2.1423, 46: 2.0996, 47: 2.0497, 49: 1.9057, 52: 1.7731, 54: 1.2964, 61: 1.6219, 74: 1.2758, 81: 1.7388, 82: 0.8772, 83: 0.7561, 88: 2.0022, 89: 1.1387, 90: 4.7357, 95: 2.7196, 96: 1.7565, 99: 0.5929, 103: 1.2717, 105: 1.9173, 108: 2.4866, 109: 2.157, 110: 0.161, 111: 1.6988, 116: 0.5796, 119: 2.0409, 120: 1.4324, 126: 1.4444, 127: 1.3588, 128: 1.388, 129: 0.2027, 130: 2.4289, 133: 0.2224, 137: 1.4939, 138: 0.9719, 139: 1.43, 141: 1.5144, 143: 1.0639, 144: 1.1694, 157: 1.1936, 160: 0.7168, 164: 1.4205, 166: 1.8905, 170: 0.244, 173: 0.3644, 177: 1.4492, 195: 1.6895}), label=1.0, rawPrediction=DenseVector([-1.7786, 1.8271, 0.4622, -0.5106]), probability=DenseVector([0.0197, 0.7251, 0.1852, 0.07]), prediction=1.0)]"
      ]
     },
     "execution_count": 74,
     "metadata": {},
     "output_type": "execute_result"
    }
   ],
   "source": [
    "predictions.take(1)"
   ]
  },
  {
   "cell_type": "code",
   "execution_count": 6,
   "metadata": {},
   "outputs": [
    {
     "data": {
      "text/plain": [
       "'!\"#$%&\\'()*+,-./:;<=>?@[\\\\]^_`{|}~'"
      ]
     },
     "execution_count": 6,
     "metadata": {},
     "output_type": "execute_result"
    }
   ],
   "source": [
    "import string\n",
    "string.punctuation"
   ]
  },
  {
   "cell_type": "code",
   "execution_count": 5,
   "metadata": {},
   "outputs": [
    {
     "ename": "NameError",
     "evalue": "name 'StringType' is not defined",
     "output_type": "error",
     "traceback": [
      "\u001b[0;31m---------------------------------------------------------------------------\u001b[0m",
      "\u001b[0;31mNameError\u001b[0m                                 Traceback (most recent call last)",
      "\u001b[0;32m<ipython-input-5-d6e8f5481292>\u001b[0m in \u001b[0;36m<module>\u001b[0;34m\u001b[0m\n\u001b[1;32m     24\u001b[0m     \u001b[0;32mreturn\u001b[0m \u001b[0mtext\u001b[0m\u001b[0;34m\u001b[0m\u001b[0;34m\u001b[0m\u001b[0m\n\u001b[1;32m     25\u001b[0m \u001b[0;34m\u001b[0m\u001b[0m\n\u001b[0;32m---> 26\u001b[0;31m \u001b[0mclean_text_lambda\u001b[0m \u001b[0;34m=\u001b[0m \u001b[0mudf\u001b[0m\u001b[0;34m(\u001b[0m\u001b[0;32mlambda\u001b[0m \u001b[0mz\u001b[0m\u001b[0;34m:\u001b[0m \u001b[0mclean_text\u001b[0m\u001b[0;34m(\u001b[0m\u001b[0mz\u001b[0m\u001b[0;34m)\u001b[0m\u001b[0;34m,\u001b[0m \u001b[0mStringType\u001b[0m\u001b[0;34m(\u001b[0m\u001b[0;34m)\u001b[0m\u001b[0;34m)\u001b[0m\u001b[0;34m\u001b[0m\u001b[0;34m\u001b[0m\u001b[0m\n\u001b[0m\u001b[1;32m     27\u001b[0m \u001b[0;34m\u001b[0m\u001b[0m\n\u001b[1;32m     28\u001b[0m \u001b[0minput_data\u001b[0m \u001b[0;34m=\u001b[0m \u001b[0mspark\u001b[0m\u001b[0;34m.\u001b[0m\u001b[0mread\u001b[0m\u001b[0;34m.\u001b[0m\u001b[0mformat\u001b[0m\u001b[0;34m(\u001b[0m\u001b[0;34m\"json\"\u001b[0m\u001b[0;34m)\u001b[0m\u001b[0;34m.\u001b[0m\u001b[0moption\u001b[0m\u001b[0;34m(\u001b[0m\u001b[0;34m\"header\"\u001b[0m\u001b[0;34m,\u001b[0m \u001b[0;34m\"true\"\u001b[0m\u001b[0;34m)\u001b[0m\u001b[0;34m.\u001b[0m\u001b[0moption\u001b[0m\u001b[0;34m(\u001b[0m\u001b[0;34m\"mode\"\u001b[0m\u001b[0;34m,\u001b[0m \u001b[0;34m\"DROPMALFORMED\"\u001b[0m\u001b[0;34m)\u001b[0m\u001b[0;34m.\u001b[0m\u001b[0mload\u001b[0m\u001b[0;34m(\u001b[0m\u001b[0;34m\"reviews_Health_and_Personal_Care_5.json\"\u001b[0m\u001b[0;34m)\u001b[0m\u001b[0;34m\u001b[0m\u001b[0;34m\u001b[0m\u001b[0m\n",
      "\u001b[0;31mNameError\u001b[0m: name 'StringType' is not defined"
     ]
    }
   ],
   "source": [
    "from pyspark.sql.functions import udf\n",
    "import string\n",
    "from nltk import pos_tag\n",
    "\n",
    "def clean_text(text):\n",
    "    # lower text\n",
    "    text = text.lower()\n",
    "    # tokenize text and remove puncutation\n",
    "    # problem in the below line\n",
    "    text = [word.strip(string.punctuation) for word in text.split(\" \")]\n",
    "    # remove words that contain numbers\n",
    "    text = [word for word in text if not any(c.isdigit() for c in word)]\n",
    "    # remove stop words\n",
    "    #stop = stopwords.words('english')\n",
    "    #text = [x for x in text if x not in stop]\n",
    "    # remove empty tokens\n",
    "    text = [t for t in text if len(t) > 0]\n",
    "    # pos tag text\n",
    "    pos_tags = pos_tag(text)\n",
    "    # remove words with only one letter\n",
    "    text = [t for t in text if len(t) > 1]\n",
    "    # join all\n",
    "    text = \" \".join(text)\n",
    "    return text\n",
    "\n",
    "clean_text_lambda = udf(lambda z: clean_text(z), StringType())\n",
    "\n",
    "input_data = spark.read.format(\"json\").option(\"header\", \"true\").option(\"mode\", \"DROPMALFORMED\").load(\"reviews_Health_and_Personal_Care_5.json\")\n",
    "\n",
    "# clean text data\n",
    "#input_data_cleaned = input_data[\"reviewText\"].apply(lambda x: clean_text(x))\n",
    "input_data = input_data.withColumn(\"overall\", input_data[\"overall\"].cast(FloatType()))\n",
    "#square_udf_float2('integers').alias('int_squared')\n",
    "\n",
    "input_data = input_data.withColumn(\"reviewText\", clean_text_lambda('reviewText'))\n",
    "#clean_text(input_data[\"review\"][0])\n",
    "#input_data.take(1)\n",
    "\n",
    "#udf_myFunction = udf(myFunction, IntegerType()) # if the function returns an int\n",
    "#df.withColumn(\"message\", udf_myFunction(\"_3\")) #\"_3\" being the column name of the column you want to consider\n",
    "input_data.head()"
   ]
  }
 ],
 "metadata": {
  "accelerator": "GPU",
  "colab": {
   "name": "Sentiment Analysis Amazon Product Review.ipynb",
   "provenance": [],
   "toc_visible": true,
   "version": "0.3.2"
  },
  "kernelspec": {
   "display_name": "Python 3",
   "language": "python",
   "name": "python3"
  },
  "language_info": {
   "codemirror_mode": {
    "name": "ipython",
    "version": 3
   },
   "file_extension": ".py",
   "mimetype": "text/x-python",
   "name": "python",
   "nbconvert_exporter": "python",
   "pygments_lexer": "ipython3",
   "version": "3.7.2"
  }
 },
 "nbformat": 4,
 "nbformat_minor": 1
}
